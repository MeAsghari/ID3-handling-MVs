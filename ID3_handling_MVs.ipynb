{
 "cells": [
  {
   "cell_type": "code",
   "execution_count": 1,
   "id": "37e24baf-a615-4100-b722-221b6b5510f6",
   "metadata": {
    "pycharm": {
     "name": "#%%\n"
    }
   },
   "outputs": [],
   "source": [
    "import pandas as pd\n",
    "import numpy as np\n",
    "import matplotlib.pyplot as plt\n",
    "\n",
    "from sklearn.model_selection import train_test_split\n",
    "from sklearn.preprocessing import KBinsDiscretizer\n",
    "from sklearn.tree import plot_tree\n",
    "from graphviz import Digraph, nohtml\n",
    "\n",
    "import warnings\n",
    "warnings.filterwarnings('ignore')"
   ]
  },
  {
   "cell_type": "code",
   "execution_count": 2,
   "id": "107ee40a-1666-419a-ac44-0c4c2290f658",
   "metadata": {
    "jupyter": {
     "source_hidden": true
    },
    "tags": []
   },
   "outputs": [],
   "source": [
    "import os\n",
    "os.environ[\"PATH\"] += os.pathsep + 'C:/Users/Mahdi/anaconda3/Library/bin/Graphviz/bin/'"
   ]
  },
  {
   "cell_type": "code",
   "execution_count": 3,
   "id": "31d21fb1-1e43-4e2b-b7ff-feb83dc07fd9",
   "metadata": {
    "pycharm": {
     "name": "#%%\n"
    }
   },
   "outputs": [
    {
     "data": {
      "text/html": [
       "<div>\n",
       "<style scoped>\n",
       "    .dataframe tbody tr th:only-of-type {\n",
       "        vertical-align: middle;\n",
       "    }\n",
       "\n",
       "    .dataframe tbody tr th {\n",
       "        vertical-align: top;\n",
       "    }\n",
       "\n",
       "    .dataframe thead th {\n",
       "        text-align: right;\n",
       "    }\n",
       "</style>\n",
       "<table border=\"1\" class=\"dataframe\">\n",
       "  <thead>\n",
       "    <tr style=\"text-align: right;\">\n",
       "      <th></th>\n",
       "      <th>Outlook</th>\n",
       "      <th>Temperature</th>\n",
       "      <th>Humidity</th>\n",
       "      <th>Wind</th>\n",
       "      <th>Play Golf</th>\n",
       "    </tr>\n",
       "  </thead>\n",
       "  <tbody>\n",
       "    <tr>\n",
       "      <th>0</th>\n",
       "      <td>Sunny</td>\n",
       "      <td>Hot</td>\n",
       "      <td>High</td>\n",
       "      <td>Weak</td>\n",
       "      <td>No</td>\n",
       "    </tr>\n",
       "    <tr>\n",
       "      <th>1</th>\n",
       "      <td>Sunny</td>\n",
       "      <td>Hot</td>\n",
       "      <td>High</td>\n",
       "      <td>Strong</td>\n",
       "      <td>No</td>\n",
       "    </tr>\n",
       "    <tr>\n",
       "      <th>2</th>\n",
       "      <td>?</td>\n",
       "      <td>Hot</td>\n",
       "      <td>High</td>\n",
       "      <td>Weak</td>\n",
       "      <td>Yes</td>\n",
       "    </tr>\n",
       "    <tr>\n",
       "      <th>3</th>\n",
       "      <td>Rain</td>\n",
       "      <td>Mild</td>\n",
       "      <td>High</td>\n",
       "      <td>Weak</td>\n",
       "      <td>Yes</td>\n",
       "    </tr>\n",
       "    <tr>\n",
       "      <th>4</th>\n",
       "      <td>?</td>\n",
       "      <td>Cool</td>\n",
       "      <td>Normal</td>\n",
       "      <td>Weak</td>\n",
       "      <td>Yes</td>\n",
       "    </tr>\n",
       "    <tr>\n",
       "      <th>5</th>\n",
       "      <td>Rain</td>\n",
       "      <td>Cool</td>\n",
       "      <td>Normal</td>\n",
       "      <td>Strong</td>\n",
       "      <td>No</td>\n",
       "    </tr>\n",
       "    <tr>\n",
       "      <th>6</th>\n",
       "      <td>Overcast</td>\n",
       "      <td>Cool</td>\n",
       "      <td>Normal</td>\n",
       "      <td>Strong</td>\n",
       "      <td>Yes</td>\n",
       "    </tr>\n",
       "    <tr>\n",
       "      <th>7</th>\n",
       "      <td>Sunny</td>\n",
       "      <td>Mild</td>\n",
       "      <td>High</td>\n",
       "      <td>Weak</td>\n",
       "      <td>No</td>\n",
       "    </tr>\n",
       "    <tr>\n",
       "      <th>8</th>\n",
       "      <td>Sunny</td>\n",
       "      <td>Cool</td>\n",
       "      <td>Normal</td>\n",
       "      <td>Weak</td>\n",
       "      <td>Yes</td>\n",
       "    </tr>\n",
       "    <tr>\n",
       "      <th>9</th>\n",
       "      <td>Rain</td>\n",
       "      <td>Mild</td>\n",
       "      <td>Normal</td>\n",
       "      <td>Weak</td>\n",
       "      <td>Yes</td>\n",
       "    </tr>\n",
       "    <tr>\n",
       "      <th>10</th>\n",
       "      <td>Sunny</td>\n",
       "      <td>Mild</td>\n",
       "      <td>Normal</td>\n",
       "      <td>Strong</td>\n",
       "      <td>Yes</td>\n",
       "    </tr>\n",
       "    <tr>\n",
       "      <th>11</th>\n",
       "      <td>Overcast</td>\n",
       "      <td>Mild</td>\n",
       "      <td>High</td>\n",
       "      <td>?</td>\n",
       "      <td>Yes</td>\n",
       "    </tr>\n",
       "    <tr>\n",
       "      <th>12</th>\n",
       "      <td>Overcast</td>\n",
       "      <td>Hot</td>\n",
       "      <td>Normal</td>\n",
       "      <td>Weak</td>\n",
       "      <td>Yes</td>\n",
       "    </tr>\n",
       "    <tr>\n",
       "      <th>13</th>\n",
       "      <td>Rain</td>\n",
       "      <td>Hot</td>\n",
       "      <td>High</td>\n",
       "      <td>Strong</td>\n",
       "      <td>No</td>\n",
       "    </tr>\n",
       "  </tbody>\n",
       "</table>\n",
       "</div>"
      ],
      "text/plain": [
       "     Outlook Temperature Humidity    Wind Play Golf\n",
       "0      Sunny         Hot     High    Weak        No\n",
       "1      Sunny         Hot     High  Strong        No\n",
       "2          ?         Hot     High    Weak       Yes\n",
       "3       Rain        Mild     High    Weak       Yes\n",
       "4          ?        Cool   Normal    Weak       Yes\n",
       "5       Rain        Cool   Normal  Strong        No\n",
       "6   Overcast        Cool   Normal  Strong       Yes\n",
       "7      Sunny        Mild     High    Weak        No\n",
       "8      Sunny        Cool   Normal    Weak       Yes\n",
       "9       Rain        Mild   Normal    Weak       Yes\n",
       "10     Sunny        Mild   Normal  Strong       Yes\n",
       "11  Overcast        Mild     High       ?       Yes\n",
       "12  Overcast         Hot   Normal    Weak       Yes\n",
       "13      Rain         Hot     High  Strong        No"
      ]
     },
     "execution_count": 3,
     "metadata": {},
     "output_type": "execute_result"
    }
   ],
   "source": [
    "data = pd.read_csv('data/baseball_with_MV.csv')\n",
    "data"
   ]
  },
  {
   "cell_type": "code",
   "execution_count": 4,
   "id": "d022e444-e050-4713-b067-5fb13204366b",
   "metadata": {},
   "outputs": [
    {
     "data": {
      "text/html": [
       "<div>\n",
       "<style scoped>\n",
       "    .dataframe tbody tr th:only-of-type {\n",
       "        vertical-align: middle;\n",
       "    }\n",
       "\n",
       "    .dataframe tbody tr th {\n",
       "        vertical-align: top;\n",
       "    }\n",
       "\n",
       "    .dataframe thead th {\n",
       "        text-align: right;\n",
       "    }\n",
       "</style>\n",
       "<table border=\"1\" class=\"dataframe\">\n",
       "  <thead>\n",
       "    <tr style=\"text-align: right;\">\n",
       "      <th></th>\n",
       "      <th>Outlook</th>\n",
       "      <th>Temperature</th>\n",
       "      <th>Humidity</th>\n",
       "      <th>Wind</th>\n",
       "      <th>Play Golf</th>\n",
       "    </tr>\n",
       "  </thead>\n",
       "  <tbody>\n",
       "    <tr>\n",
       "      <th>0</th>\n",
       "      <td>Sunny</td>\n",
       "      <td>Hot</td>\n",
       "      <td>High</td>\n",
       "      <td>Weak</td>\n",
       "      <td>No</td>\n",
       "    </tr>\n",
       "    <tr>\n",
       "      <th>1</th>\n",
       "      <td>Sunny</td>\n",
       "      <td>Hot</td>\n",
       "      <td>High</td>\n",
       "      <td>Strong</td>\n",
       "      <td>No</td>\n",
       "    </tr>\n",
       "    <tr>\n",
       "      <th>2</th>\n",
       "      <td>NaN</td>\n",
       "      <td>Hot</td>\n",
       "      <td>High</td>\n",
       "      <td>Weak</td>\n",
       "      <td>Yes</td>\n",
       "    </tr>\n",
       "    <tr>\n",
       "      <th>3</th>\n",
       "      <td>Rain</td>\n",
       "      <td>Mild</td>\n",
       "      <td>High</td>\n",
       "      <td>Weak</td>\n",
       "      <td>Yes</td>\n",
       "    </tr>\n",
       "    <tr>\n",
       "      <th>4</th>\n",
       "      <td>NaN</td>\n",
       "      <td>Cool</td>\n",
       "      <td>Normal</td>\n",
       "      <td>Weak</td>\n",
       "      <td>Yes</td>\n",
       "    </tr>\n",
       "    <tr>\n",
       "      <th>5</th>\n",
       "      <td>Rain</td>\n",
       "      <td>Cool</td>\n",
       "      <td>Normal</td>\n",
       "      <td>Strong</td>\n",
       "      <td>No</td>\n",
       "    </tr>\n",
       "    <tr>\n",
       "      <th>6</th>\n",
       "      <td>Overcast</td>\n",
       "      <td>Cool</td>\n",
       "      <td>Normal</td>\n",
       "      <td>Strong</td>\n",
       "      <td>Yes</td>\n",
       "    </tr>\n",
       "    <tr>\n",
       "      <th>7</th>\n",
       "      <td>Sunny</td>\n",
       "      <td>Mild</td>\n",
       "      <td>High</td>\n",
       "      <td>Weak</td>\n",
       "      <td>No</td>\n",
       "    </tr>\n",
       "    <tr>\n",
       "      <th>8</th>\n",
       "      <td>Sunny</td>\n",
       "      <td>Cool</td>\n",
       "      <td>Normal</td>\n",
       "      <td>Weak</td>\n",
       "      <td>Yes</td>\n",
       "    </tr>\n",
       "    <tr>\n",
       "      <th>9</th>\n",
       "      <td>Rain</td>\n",
       "      <td>Mild</td>\n",
       "      <td>Normal</td>\n",
       "      <td>Weak</td>\n",
       "      <td>Yes</td>\n",
       "    </tr>\n",
       "    <tr>\n",
       "      <th>10</th>\n",
       "      <td>Sunny</td>\n",
       "      <td>Mild</td>\n",
       "      <td>Normal</td>\n",
       "      <td>Strong</td>\n",
       "      <td>Yes</td>\n",
       "    </tr>\n",
       "    <tr>\n",
       "      <th>11</th>\n",
       "      <td>Overcast</td>\n",
       "      <td>Mild</td>\n",
       "      <td>High</td>\n",
       "      <td>NaN</td>\n",
       "      <td>Yes</td>\n",
       "    </tr>\n",
       "    <tr>\n",
       "      <th>12</th>\n",
       "      <td>Overcast</td>\n",
       "      <td>Hot</td>\n",
       "      <td>Normal</td>\n",
       "      <td>Weak</td>\n",
       "      <td>Yes</td>\n",
       "    </tr>\n",
       "    <tr>\n",
       "      <th>13</th>\n",
       "      <td>Rain</td>\n",
       "      <td>Hot</td>\n",
       "      <td>High</td>\n",
       "      <td>Strong</td>\n",
       "      <td>No</td>\n",
       "    </tr>\n",
       "  </tbody>\n",
       "</table>\n",
       "</div>"
      ],
      "text/plain": [
       "     Outlook Temperature Humidity    Wind Play Golf\n",
       "0      Sunny         Hot     High    Weak        No\n",
       "1      Sunny         Hot     High  Strong        No\n",
       "2        NaN         Hot     High    Weak       Yes\n",
       "3       Rain        Mild     High    Weak       Yes\n",
       "4        NaN        Cool   Normal    Weak       Yes\n",
       "5       Rain        Cool   Normal  Strong        No\n",
       "6   Overcast        Cool   Normal  Strong       Yes\n",
       "7      Sunny        Mild     High    Weak        No\n",
       "8      Sunny        Cool   Normal    Weak       Yes\n",
       "9       Rain        Mild   Normal    Weak       Yes\n",
       "10     Sunny        Mild   Normal  Strong       Yes\n",
       "11  Overcast        Mild     High     NaN       Yes\n",
       "12  Overcast         Hot   Normal    Weak       Yes\n",
       "13      Rain         Hot     High  Strong        No"
      ]
     },
     "execution_count": 4,
     "metadata": {},
     "output_type": "execute_result"
    }
   ],
   "source": [
    "data = data.replace('?' , np.nan)\n",
    "data"
   ]
  },
  {
   "cell_type": "code",
   "execution_count": 5,
   "id": "b560c319-edac-44aa-8f22-2e9aef089bfb",
   "metadata": {
    "pycharm": {
     "name": "#%%\n"
    }
   },
   "outputs": [],
   "source": [
    "def entropy(labels):\n",
    "    p = labels.value_counts() / len(labels)\n",
    "    return -sum(p * np.log2(p))"
   ]
  },
  {
   "cell_type": "code",
   "execution_count": 6,
   "id": "a6ec6fcf-ad26-47a5-b872-97c5070be514",
   "metadata": {
    "pycharm": {
     "name": "#%%\n"
    }
   },
   "outputs": [
    {
     "data": {
      "text/plain": [
       "0.9402859586706311"
      ]
     },
     "execution_count": 6,
     "metadata": {},
     "output_type": "execute_result"
    }
   ],
   "source": [
    "entropy(data['Play Golf'])"
   ]
  },
  {
   "cell_type": "code",
   "execution_count": 7,
   "id": "6b6d2a2c-ad14-4dc6-8a97-d01342504e08",
   "metadata": {
    "pycharm": {
     "name": "#%%\n"
    }
   },
   "outputs": [],
   "source": [
    "def gain_ratio(data , feature , target):\n",
    "    e_parent = entropy(data[target])\n",
    "    e_child = 0\n",
    "    si = 0\n",
    "    for value in data[feature].unique():\n",
    "        \n",
    "        if value in data[feature].value_counts().index:\n",
    "            subset = data[data[feature]==value]\n",
    "        else:\n",
    "            subset = data[data[feature].isnull()]\n",
    "            \n",
    "        if len(subset) == 0:\n",
    "            return 0\n",
    "        \n",
    "        w = len(subset) / len(data)\n",
    "        e_child += w * entropy(subset[target])\n",
    "        \n",
    "        si += -(w * np.log2(w))\n",
    "        info_gain =  e_parent - e_child\n",
    "    return info_gain / si"
   ]
  },
  {
   "cell_type": "code",
   "execution_count": 8,
   "id": "71ad03b8-1685-4b40-acab-199e73a97694",
   "metadata": {
    "pycharm": {
     "name": "#%%\n"
    }
   },
   "outputs": [
    {
     "data": {
      "text/plain": [
       "0.10280855070258782"
      ]
     },
     "execution_count": 8,
     "metadata": {},
     "output_type": "execute_result"
    }
   ],
   "source": [
    "gain_ratio(data , 'Wind' , 'Play Golf')"
   ]
  },
  {
   "cell_type": "code",
   "execution_count": 9,
   "id": "c9d10050-29aa-4ef5-8f52-82f04afc029e",
   "metadata": {
    "pycharm": {
     "name": "#%%\n"
    }
   },
   "outputs": [
    {
     "data": {
      "text/plain": [
       "0.15183550136234159"
      ]
     },
     "execution_count": 9,
     "metadata": {},
     "output_type": "execute_result"
    }
   ],
   "source": [
    "gain_ratio(data , 'Humidity' , 'Play Golf')"
   ]
  },
  {
   "cell_type": "code",
   "execution_count": 10,
   "id": "6003fa2c-7717-4d2a-b079-4e1758b61160",
   "metadata": {
    "pycharm": {
     "name": "#%%\n"
    }
   },
   "outputs": [
    {
     "data": {
      "text/plain": [
       "0.15996658678058762"
      ]
     },
     "execution_count": 10,
     "metadata": {},
     "output_type": "execute_result"
    }
   ],
   "source": [
    "gain_ratio(data , 'Outlook' , 'Play Golf')"
   ]
  },
  {
   "cell_type": "code",
   "execution_count": 11,
   "id": "410faf5c-db76-4b88-85e6-b6827907d6a7",
   "metadata": {
    "pycharm": {
     "name": "#%%\n"
    }
   },
   "outputs": [
    {
     "data": {
      "text/plain": [
       "0.06586297902239394"
      ]
     },
     "execution_count": 11,
     "metadata": {},
     "output_type": "execute_result"
    }
   ],
   "source": [
    "gain_ratio(data , 'Temperature' , 'Play Golf')"
   ]
  },
  {
   "cell_type": "code",
   "execution_count": 12,
   "id": "efc11be0-49db-438b-a4f5-40e430bf2fee",
   "metadata": {
    "pycharm": {
     "name": "#%%\n"
    }
   },
   "outputs": [],
   "source": [
    "class Node:\n",
    "    \n",
    "    def __init__(self , feature=None , label=None):\n",
    "        self.feature = feature\n",
    "        self.label = label\n",
    "        self.children = {}\n",
    "        \n",
    "    def __repr__(self):\n",
    "        if self.feature is not None:\n",
    "            return f'DecisionNode(feature=\"{self.feature}\", children={self.children})'\n",
    "        else:\n",
    "            return f'LeafNode(label=\"{self.label}\")'"
   ]
  },
  {
   "cell_type": "code",
   "execution_count": 13,
   "id": "03b4ab26-e2a7-47b0-90aa-06c60c88b01d",
   "metadata": {
    "pycharm": {
     "name": "#%%\n"
    }
   },
   "outputs": [
    {
     "data": {
      "text/plain": [
       "DecisionNode(feature=\"wind\", children={})"
      ]
     },
     "execution_count": 13,
     "metadata": {},
     "output_type": "execute_result"
    }
   ],
   "source": [
    "Node(feature='wind')"
   ]
  },
  {
   "cell_type": "code",
   "execution_count": 14,
   "id": "7a9bc309-4eed-4dfe-9b37-f136dead9e4d",
   "metadata": {
    "pycharm": {
     "name": "#%%\n"
    }
   },
   "outputs": [],
   "source": [
    "def make_tree(data, target):\n",
    "    # leaf node?\n",
    "    if len(data[target].unique()) == 1:\n",
    "        return Node(label=data[target].iloc[0])\n",
    "    \n",
    "    features = data.drop(target, axis=1).columns\n",
    "    if len(features) == 0 or len(data) == 0:\n",
    "        return Node(label=data[target].mode()[0])\n",
    "    \n",
    "    # calculate information gain\n",
    "    gains = [gain_ratio(data, feature, target) for feature in features]\n",
    "    \n",
    "    # greedy search to find best feature\n",
    "    max_gain_idx = np.argmax(gains)\n",
    "    best_feature = features[max_gain_idx]\n",
    "    \n",
    "    # make a node\n",
    "    node = Node(feature=best_feature)\n",
    "\n",
    "    # loop over the best feature\n",
    "    for value in data[best_feature].unique():\n",
    "        \n",
    "        if value in data[best_feature].value_counts().index:\n",
    "            subset = data[data[best_feature] == value].drop(best_feature, axis=1)\n",
    "        else:\n",
    "            subset = data[data[best_feature].isnull()].drop(best_feature, axis=1)\n",
    "        # display(subset)\n",
    "        \n",
    "        node.children[value] = make_tree(subset, target)\n",
    "    return node"
   ]
  },
  {
   "cell_type": "code",
   "execution_count": 15,
   "id": "ccebb84c-eda2-4552-8ef9-0a16b93d7e61",
   "metadata": {
    "pycharm": {
     "name": "#%%\n"
    }
   },
   "outputs": [
    {
     "data": {
      "text/plain": [
       "DecisionNode(feature=\"Outlook\", children={'Sunny': DecisionNode(feature=\"Humidity\", children={'High': LeafNode(label=\"No\"), 'Normal': LeafNode(label=\"Yes\")}), nan: LeafNode(label=\"Yes\"), 'Rain': DecisionNode(feature=\"Wind\", children={'Weak': LeafNode(label=\"Yes\"), 'Strong': LeafNode(label=\"No\")}), 'Overcast': LeafNode(label=\"Yes\")})"
      ]
     },
     "execution_count": 15,
     "metadata": {},
     "output_type": "execute_result"
    }
   ],
   "source": [
    "tree = make_tree(data , 'Play Golf')\n",
    "tree"
   ]
  },
  {
   "cell_type": "code",
   "execution_count": 16,
   "id": "1018af34-9404-428b-a08a-e0e62b3a382e",
   "metadata": {},
   "outputs": [],
   "source": [
    "def plot_tree(tree , parent=None , node_id=None):\n",
    "    if node_id is None:\n",
    "        node_id = '0'\n",
    "        g = Digraph(node_attr={'shape': 'record' , 'height': '.1'})\n",
    "        g.node(node_id , label=tree.feature , style='filled' , fillcolor='burlywood')\n",
    "        \n",
    "    else:\n",
    "        g = parent\n",
    "        g.node(node_id , label = tree.feature , style='filled' , fillcolor='#a0522d')\n",
    "        \n",
    "    if len(tree.children) == 0:\n",
    "        g.node(node_id , label=tree.label , style='filled' , fillcolor='burlywood')\n",
    "        return g\n",
    "    \n",
    "    for i,(value , child) in enumerate(tree.children.items()):\n",
    "        child_id = f'{node_id}_{i+1}'\n",
    "        plot_tree(child , g , child_id)\n",
    "        g.edge(node_id , child_id , label=str(value))\n",
    "        \n",
    "    return g"
   ]
  },
  {
   "cell_type": "code",
   "execution_count": 17,
   "id": "e77b28f0-61b6-43fb-960f-2feb83833bc0",
   "metadata": {},
   "outputs": [
    {
     "data": {
      "text/plain": [
       "'DTs_baseball.png'"
      ]
     },
     "execution_count": 17,
     "metadata": {},
     "output_type": "execute_result"
    }
   ],
   "source": [
    "g = plot_tree(tree)\n",
    "g.render('DTs_baseball' , format='png' , view=True)"
   ]
  },
  {
   "cell_type": "code",
   "execution_count": 18,
   "id": "112e2a2a-5474-43a5-b1cc-646d3f9d7d8b",
   "metadata": {},
   "outputs": [
    {
     "data": {
      "image/svg+xml": [
       "<?xml version=\"1.0\" encoding=\"UTF-8\" standalone=\"no\"?>\n",
       "<!DOCTYPE svg PUBLIC \"-//W3C//DTD SVG 1.1//EN\"\n",
       " \"http://www.w3.org/Graphics/SVG/1.1/DTD/svg11.dtd\">\n",
       "<!-- Generated by graphviz version 9.0.0 (20230911.1827)\n",
       " -->\n",
       "<!-- Pages: 1 -->\n",
       "<svg width=\"317pt\" height=\"186pt\"\n",
       " viewBox=\"0.00 0.00 317.00 185.75\" xmlns=\"http://www.w3.org/2000/svg\" xmlns:xlink=\"http://www.w3.org/1999/xlink\">\n",
       "<g id=\"graph0\" class=\"graph\" transform=\"scale(1 1) rotate(0) translate(4 181.75)\">\n",
       "<polygon fill=\"white\" stroke=\"none\" points=\"-4,4 -4,-181.75 313,-181.75 313,4 -4,4\"/>\n",
       "<!-- 0 -->\n",
       "<g id=\"node1\" class=\"node\">\n",
       "<title>0</title>\n",
       "<polygon fill=\"burlywood\" stroke=\"black\" points=\"143.12,-153.5 143.12,-177.25 204.88,-177.25 204.88,-153.5 143.12,-153.5\"/>\n",
       "<text text-anchor=\"middle\" x=\"174\" y=\"-159.95\" font-family=\"Times New Roman,serif\" font-size=\"14.00\">Outlook</text>\n",
       "</g>\n",
       "<!-- 0_1 -->\n",
       "<g id=\"node2\" class=\"node\">\n",
       "<title>0_1</title>\n",
       "<polygon fill=\"#a0522d\" stroke=\"black\" points=\"25.5,-77 25.5,-100.75 92.5,-100.75 92.5,-77 25.5,-77\"/>\n",
       "<text text-anchor=\"middle\" x=\"59\" y=\"-83.45\" font-family=\"Times New Roman,serif\" font-size=\"14.00\">Humidity</text>\n",
       "</g>\n",
       "<!-- 0&#45;&gt;0_1 -->\n",
       "<g id=\"edge3\" class=\"edge\">\n",
       "<title>0&#45;&gt;0_1</title>\n",
       "<path fill=\"none\" stroke=\"black\" d=\"M143.74,-153.09C132.35,-148.25 119.56,-142.08 108.75,-135 97.48,-127.62 86.26,-117.71 77.33,-109.06\"/>\n",
       "<polygon fill=\"black\" stroke=\"black\" points=\"79.86,-106.65 70.32,-102.04 74.9,-111.59 79.86,-106.65\"/>\n",
       "<text text-anchor=\"middle\" x=\"126.62\" y=\"-121.7\" font-family=\"Times New Roman,serif\" font-size=\"14.00\">Sunny</text>\n",
       "</g>\n",
       "<!-- 0_2 -->\n",
       "<g id=\"node5\" class=\"node\">\n",
       "<title>0_2</title>\n",
       "<polygon fill=\"burlywood\" stroke=\"black\" points=\"111,-77 111,-100.75 165,-100.75 165,-77 111,-77\"/>\n",
       "<text text-anchor=\"middle\" x=\"137.88\" y=\"-83.45\" font-family=\"Times New Roman,serif\" font-size=\"14.00\">Yes</text>\n",
       "</g>\n",
       "<!-- 0&#45;&gt;0_2 -->\n",
       "<g id=\"edge4\" class=\"edge\">\n",
       "<title>0&#45;&gt;0_2</title>\n",
       "<path fill=\"none\" stroke=\"black\" d=\"M165.56,-153.04C161.86,-147.73 157.65,-141.23 154.5,-135 150.79,-127.67 147.5,-119.31 144.85,-111.79\"/>\n",
       "<polygon fill=\"black\" stroke=\"black\" points=\"148.19,-110.76 141.72,-102.37 141.55,-112.96 148.19,-110.76\"/>\n",
       "<text text-anchor=\"middle\" x=\"164.75\" y=\"-121.7\" font-family=\"Times New Roman,serif\" font-size=\"14.00\">nan</text>\n",
       "</g>\n",
       "<!-- 0_3 -->\n",
       "<g id=\"node6\" class=\"node\">\n",
       "<title>0_3</title>\n",
       "<polygon fill=\"#a0522d\" stroke=\"black\" points=\"183,-77 183,-100.75 237,-100.75 237,-77 183,-77\"/>\n",
       "<text text-anchor=\"middle\" x=\"209.88\" y=\"-83.45\" font-family=\"Times New Roman,serif\" font-size=\"14.00\">Wind</text>\n",
       "</g>\n",
       "<!-- 0&#45;&gt;0_3 -->\n",
       "<g id=\"edge7\" class=\"edge\">\n",
       "<title>0&#45;&gt;0_3</title>\n",
       "<path fill=\"none\" stroke=\"black\" d=\"M179.47,-153.06C184.87,-141.88 193.26,-124.52 199.88,-110.82\"/>\n",
       "<polygon fill=\"black\" stroke=\"black\" points=\"202.86,-112.7 204.06,-102.17 196.56,-109.65 202.86,-112.7\"/>\n",
       "<text text-anchor=\"middle\" x=\"208.75\" y=\"-121.7\" font-family=\"Times New Roman,serif\" font-size=\"14.00\">Rain</text>\n",
       "</g>\n",
       "<!-- 0_4 -->\n",
       "<g id=\"node9\" class=\"node\">\n",
       "<title>0_4</title>\n",
       "<polygon fill=\"burlywood\" stroke=\"black\" points=\"255,-77 255,-100.75 309,-100.75 309,-77 255,-77\"/>\n",
       "<text text-anchor=\"middle\" x=\"281.88\" y=\"-83.45\" font-family=\"Times New Roman,serif\" font-size=\"14.00\">Yes</text>\n",
       "</g>\n",
       "<!-- 0&#45;&gt;0_4 -->\n",
       "<g id=\"edge8\" class=\"edge\">\n",
       "<title>0&#45;&gt;0_4</title>\n",
       "<path fill=\"none\" stroke=\"black\" d=\"M195.27,-153.05C204.58,-147.85 215.53,-141.42 225,-135 237,-126.86 249.7,-116.94 260.06,-108.48\"/>\n",
       "<polygon fill=\"black\" stroke=\"black\" points=\"262.2,-111.25 267.67,-102.18 257.74,-105.86 262.2,-111.25\"/>\n",
       "<text text-anchor=\"middle\" x=\"271.12\" y=\"-121.7\" font-family=\"Times New Roman,serif\" font-size=\"14.00\">Overcast</text>\n",
       "</g>\n",
       "<!-- 0_1_1 -->\n",
       "<g id=\"node3\" class=\"node\">\n",
       "<title>0_1_1</title>\n",
       "<polygon fill=\"burlywood\" stroke=\"black\" points=\"0,-0.5 0,-24.25 54,-24.25 54,-0.5 0,-0.5\"/>\n",
       "<text text-anchor=\"middle\" x=\"26.62\" y=\"-6.95\" font-family=\"Times New Roman,serif\" font-size=\"14.00\">No</text>\n",
       "</g>\n",
       "<!-- 0_1&#45;&gt;0_1_1 -->\n",
       "<g id=\"edge1\" class=\"edge\">\n",
       "<title>0_1&#45;&gt;0_1_1</title>\n",
       "<path fill=\"none\" stroke=\"black\" d=\"M54.14,-76.56C49.39,-65.49 42.03,-48.36 36.17,-34.73\"/>\n",
       "<polygon fill=\"black\" stroke=\"black\" points=\"39.46,-33.51 32.29,-25.7 33.03,-36.27 39.46,-33.51\"/>\n",
       "<text text-anchor=\"middle\" x=\"59.12\" y=\"-45.2\" font-family=\"Times New Roman,serif\" font-size=\"14.00\">High</text>\n",
       "</g>\n",
       "<!-- 0_1_2 -->\n",
       "<g id=\"node4\" class=\"node\">\n",
       "<title>0_1_2</title>\n",
       "<polygon fill=\"burlywood\" stroke=\"black\" points=\"72,-0.5 72,-24.25 126,-24.25 126,-0.5 72,-0.5\"/>\n",
       "<text text-anchor=\"middle\" x=\"98.88\" y=\"-6.95\" font-family=\"Times New Roman,serif\" font-size=\"14.00\">Yes</text>\n",
       "</g>\n",
       "<!-- 0_1&#45;&gt;0_1_2 -->\n",
       "<g id=\"edge2\" class=\"edge\">\n",
       "<title>0_1&#45;&gt;0_1_2</title>\n",
       "<path fill=\"none\" stroke=\"black\" d=\"M65.76,-76.52C68.94,-71.1 72.74,-64.5 76,-58.5 80.18,-50.82 84.58,-42.3 88.4,-34.74\"/>\n",
       "<polygon fill=\"black\" stroke=\"black\" points=\"91.46,-36.45 92.81,-25.94 85.2,-33.31 91.46,-36.45\"/>\n",
       "<text text-anchor=\"middle\" x=\"104.62\" y=\"-45.2\" font-family=\"Times New Roman,serif\" font-size=\"14.00\">Normal</text>\n",
       "</g>\n",
       "<!-- 0_3_1 -->\n",
       "<g id=\"node7\" class=\"node\">\n",
       "<title>0_3_1</title>\n",
       "<polygon fill=\"burlywood\" stroke=\"black\" points=\"163,-0.5 163,-24.25 217,-24.25 217,-0.5 163,-0.5\"/>\n",
       "<text text-anchor=\"middle\" x=\"189.88\" y=\"-6.95\" font-family=\"Times New Roman,serif\" font-size=\"14.00\">Yes</text>\n",
       "</g>\n",
       "<!-- 0_3&#45;&gt;0_3_1 -->\n",
       "<g id=\"edge5\" class=\"edge\">\n",
       "<title>0_3&#45;&gt;0_3_1</title>\n",
       "<path fill=\"none\" stroke=\"black\" d=\"M206.96,-76.56C204.02,-65.6 199.48,-48.71 195.84,-35.14\"/>\n",
       "<polygon fill=\"black\" stroke=\"black\" points=\"199.3,-34.52 193.33,-25.77 192.54,-36.34 199.3,-34.52\"/>\n",
       "<text text-anchor=\"middle\" x=\"218.12\" y=\"-45.2\" font-family=\"Times New Roman,serif\" font-size=\"14.00\">Weak</text>\n",
       "</g>\n",
       "<!-- 0_3_2 -->\n",
       "<g id=\"node8\" class=\"node\">\n",
       "<title>0_3_2</title>\n",
       "<polygon fill=\"burlywood\" stroke=\"black\" points=\"235,-0.5 235,-24.25 289,-24.25 289,-0.5 235,-0.5\"/>\n",
       "<text text-anchor=\"middle\" x=\"261.62\" y=\"-6.95\" font-family=\"Times New Roman,serif\" font-size=\"14.00\">No</text>\n",
       "</g>\n",
       "<!-- 0_3&#45;&gt;0_3_2 -->\n",
       "<g id=\"edge6\" class=\"edge\">\n",
       "<title>0_3&#45;&gt;0_3_2</title>\n",
       "<path fill=\"none\" stroke=\"black\" d=\"M222.23,-76.52C227.45,-71.32 233.38,-64.9 238,-58.5 243.29,-51.16 248.18,-42.51 252.14,-34.76\"/>\n",
       "<polygon fill=\"black\" stroke=\"black\" points=\"255.18,-36.51 256.41,-25.99 248.88,-33.45 255.18,-36.51\"/>\n",
       "<text text-anchor=\"middle\" x=\"266.75\" y=\"-45.2\" font-family=\"Times New Roman,serif\" font-size=\"14.00\">Strong</text>\n",
       "</g>\n",
       "</g>\n",
       "</svg>\n"
      ],
      "text/plain": [
       "<graphviz.graphs.Digraph at 0x1d18bdf0488>"
      ]
     },
     "execution_count": 18,
     "metadata": {},
     "output_type": "execute_result"
    }
   ],
   "source": [
    "plot_tree(tree)"
   ]
  },
  {
   "cell_type": "code",
   "execution_count": 19,
   "id": "db371fed-ac0a-4252-b93c-6569a861ce32",
   "metadata": {
    "pycharm": {
     "name": "#%%\n"
    }
   },
   "outputs": [
    {
     "data": {
      "text/html": [
       "<div>\n",
       "<style scoped>\n",
       "    .dataframe tbody tr th:only-of-type {\n",
       "        vertical-align: middle;\n",
       "    }\n",
       "\n",
       "    .dataframe tbody tr th {\n",
       "        vertical-align: top;\n",
       "    }\n",
       "\n",
       "    .dataframe thead th {\n",
       "        text-align: right;\n",
       "    }\n",
       "</style>\n",
       "<table border=\"1\" class=\"dataframe\">\n",
       "  <thead>\n",
       "    <tr style=\"text-align: right;\">\n",
       "      <th></th>\n",
       "      <th>Outlook</th>\n",
       "      <th>Temperature</th>\n",
       "      <th>Humidity</th>\n",
       "      <th>Wind</th>\n",
       "      <th>Play Golf</th>\n",
       "    </tr>\n",
       "  </thead>\n",
       "  <tbody>\n",
       "    <tr>\n",
       "      <th>0</th>\n",
       "      <td>Overcast</td>\n",
       "      <td>Mild</td>\n",
       "      <td>High</td>\n",
       "      <td>Weak</td>\n",
       "      <td>Yes</td>\n",
       "    </tr>\n",
       "    <tr>\n",
       "      <th>1</th>\n",
       "      <td>Rain</td>\n",
       "      <td>Cool</td>\n",
       "      <td>Normal</td>\n",
       "      <td>Strong</td>\n",
       "      <td>No</td>\n",
       "    </tr>\n",
       "    <tr>\n",
       "      <th>2</th>\n",
       "      <td>Sunny</td>\n",
       "      <td>Hot</td>\n",
       "      <td>Normal</td>\n",
       "      <td>Weak</td>\n",
       "      <td>Yes</td>\n",
       "    </tr>\n",
       "  </tbody>\n",
       "</table>\n",
       "</div>"
      ],
      "text/plain": [
       "    Outlook Temperature Humidity    Wind Play Golf\n",
       "0  Overcast        Mild     High    Weak       Yes\n",
       "1      Rain        Cool   Normal  Strong        No\n",
       "2     Sunny         Hot   Normal    Weak       Yes"
      ]
     },
     "execution_count": 19,
     "metadata": {},
     "output_type": "execute_result"
    }
   ],
   "source": [
    "data_test = pd.read_csv('data/baseball-test.csv')\n",
    "data_test"
   ]
  },
  {
   "cell_type": "code",
   "execution_count": 20,
   "id": "6435f0a2-0294-408e-8b63-2dcec19a4169",
   "metadata": {
    "pycharm": {
     "name": "#%%\n"
    }
   },
   "outputs": [
    {
     "data": {
      "text/plain": [
       "['Yes', 'No', 'Yes']"
      ]
     },
     "execution_count": 20,
     "metadata": {},
     "output_type": "execute_result"
    }
   ],
   "source": [
    "def predict(node, sample):\n",
    "    if node.feature is None:\n",
    "        return node.label\n",
    "    \n",
    "    feature_value = sample[node.feature]\n",
    "    \n",
    "    if feature_value in node.children:\n",
    "        return predict(node.children[feature_value], sample)\n",
    "    else:\n",
    "        return node.label\n",
    "\n",
    "[predict(tree, sample) for _, sample in data_test.iterrows()]"
   ]
  },
  {
   "cell_type": "code",
   "execution_count": 28,
   "id": "7a254e81-b982-437a-8c9f-a9dea8d04a15",
   "metadata": {
    "pycharm": {
     "name": "#%%\n"
    }
   },
   "outputs": [
    {
     "data": {
      "text/html": [
       "<div>\n",
       "<style scoped>\n",
       "    .dataframe tbody tr th:only-of-type {\n",
       "        vertical-align: middle;\n",
       "    }\n",
       "\n",
       "    .dataframe tbody tr th {\n",
       "        vertical-align: top;\n",
       "    }\n",
       "\n",
       "    .dataframe thead th {\n",
       "        text-align: right;\n",
       "    }\n",
       "</style>\n",
       "<table border=\"1\" class=\"dataframe\">\n",
       "  <thead>\n",
       "    <tr style=\"text-align: right;\">\n",
       "      <th></th>\n",
       "      <th>Outlook</th>\n",
       "      <th>Temperature</th>\n",
       "      <th>Humidity</th>\n",
       "      <th>Wind</th>\n",
       "      <th>Play Golf</th>\n",
       "    </tr>\n",
       "  </thead>\n",
       "  <tbody>\n",
       "    <tr>\n",
       "      <th>0</th>\n",
       "      <td>Sunny</td>\n",
       "      <td>85</td>\n",
       "      <td>85</td>\n",
       "      <td>Weak</td>\n",
       "      <td>No</td>\n",
       "    </tr>\n",
       "    <tr>\n",
       "      <th>1</th>\n",
       "      <td>Sunny</td>\n",
       "      <td>80</td>\n",
       "      <td>90</td>\n",
       "      <td>Strong</td>\n",
       "      <td>No</td>\n",
       "    </tr>\n",
       "    <tr>\n",
       "      <th>2</th>\n",
       "      <td>?</td>\n",
       "      <td>83</td>\n",
       "      <td>86</td>\n",
       "      <td>Weak</td>\n",
       "      <td>Yes</td>\n",
       "    </tr>\n",
       "    <tr>\n",
       "      <th>3</th>\n",
       "      <td>Rain</td>\n",
       "      <td>70</td>\n",
       "      <td>96</td>\n",
       "      <td>Weak</td>\n",
       "      <td>Yes</td>\n",
       "    </tr>\n",
       "    <tr>\n",
       "      <th>4</th>\n",
       "      <td>?</td>\n",
       "      <td>68</td>\n",
       "      <td>80</td>\n",
       "      <td>Weak</td>\n",
       "      <td>Yes</td>\n",
       "    </tr>\n",
       "    <tr>\n",
       "      <th>5</th>\n",
       "      <td>Rain</td>\n",
       "      <td>65</td>\n",
       "      <td>70</td>\n",
       "      <td>Strong</td>\n",
       "      <td>No</td>\n",
       "    </tr>\n",
       "    <tr>\n",
       "      <th>6</th>\n",
       "      <td>Overcast</td>\n",
       "      <td>64</td>\n",
       "      <td>65</td>\n",
       "      <td>Strong</td>\n",
       "      <td>Yes</td>\n",
       "    </tr>\n",
       "    <tr>\n",
       "      <th>7</th>\n",
       "      <td>Sunny</td>\n",
       "      <td>72</td>\n",
       "      <td>95</td>\n",
       "      <td>Weak</td>\n",
       "      <td>No</td>\n",
       "    </tr>\n",
       "    <tr>\n",
       "      <th>8</th>\n",
       "      <td>Sunny</td>\n",
       "      <td>69</td>\n",
       "      <td>70</td>\n",
       "      <td>Weak</td>\n",
       "      <td>Yes</td>\n",
       "    </tr>\n",
       "    <tr>\n",
       "      <th>9</th>\n",
       "      <td>Rain</td>\n",
       "      <td>75</td>\n",
       "      <td>80</td>\n",
       "      <td>Weak</td>\n",
       "      <td>Yes</td>\n",
       "    </tr>\n",
       "    <tr>\n",
       "      <th>10</th>\n",
       "      <td>Sunny</td>\n",
       "      <td>75</td>\n",
       "      <td>70</td>\n",
       "      <td>Strong</td>\n",
       "      <td>Yes</td>\n",
       "    </tr>\n",
       "    <tr>\n",
       "      <th>11</th>\n",
       "      <td>Overcast</td>\n",
       "      <td>72</td>\n",
       "      <td>90</td>\n",
       "      <td>?</td>\n",
       "      <td>Yes</td>\n",
       "    </tr>\n",
       "    <tr>\n",
       "      <th>12</th>\n",
       "      <td>Overcast</td>\n",
       "      <td>81</td>\n",
       "      <td>75</td>\n",
       "      <td>Weak</td>\n",
       "      <td>Yes</td>\n",
       "    </tr>\n",
       "    <tr>\n",
       "      <th>13</th>\n",
       "      <td>Rain</td>\n",
       "      <td>71</td>\n",
       "      <td>91</td>\n",
       "      <td>Strong</td>\n",
       "      <td>No</td>\n",
       "    </tr>\n",
       "  </tbody>\n",
       "</table>\n",
       "</div>"
      ],
      "text/plain": [
       "     Outlook  Temperature  Humidity    Wind Play Golf\n",
       "0      Sunny           85        85    Weak        No\n",
       "1      Sunny           80        90  Strong        No\n",
       "2          ?           83        86    Weak       Yes\n",
       "3       Rain           70        96    Weak       Yes\n",
       "4          ?           68        80    Weak       Yes\n",
       "5       Rain           65        70  Strong        No\n",
       "6   Overcast           64        65  Strong       Yes\n",
       "7      Sunny           72        95    Weak        No\n",
       "8      Sunny           69        70    Weak       Yes\n",
       "9       Rain           75        80    Weak       Yes\n",
       "10     Sunny           75        70  Strong       Yes\n",
       "11  Overcast           72        90       ?       Yes\n",
       "12  Overcast           81        75    Weak       Yes\n",
       "13      Rain           71        91  Strong        No"
      ]
     },
     "execution_count": 28,
     "metadata": {},
     "output_type": "execute_result"
    }
   ],
   "source": [
    "df = pd.read_csv('data/play_golf_with_MV.csv')\n",
    "df"
   ]
  },
  {
   "cell_type": "code",
   "execution_count": 29,
   "id": "17403f39-0389-4971-9ea1-85c9550f5d55",
   "metadata": {},
   "outputs": [
    {
     "data": {
      "text/html": [
       "<div>\n",
       "<style scoped>\n",
       "    .dataframe tbody tr th:only-of-type {\n",
       "        vertical-align: middle;\n",
       "    }\n",
       "\n",
       "    .dataframe tbody tr th {\n",
       "        vertical-align: top;\n",
       "    }\n",
       "\n",
       "    .dataframe thead th {\n",
       "        text-align: right;\n",
       "    }\n",
       "</style>\n",
       "<table border=\"1\" class=\"dataframe\">\n",
       "  <thead>\n",
       "    <tr style=\"text-align: right;\">\n",
       "      <th></th>\n",
       "      <th>Outlook</th>\n",
       "      <th>Temperature</th>\n",
       "      <th>Humidity</th>\n",
       "      <th>Wind</th>\n",
       "      <th>Play Golf</th>\n",
       "    </tr>\n",
       "  </thead>\n",
       "  <tbody>\n",
       "    <tr>\n",
       "      <th>0</th>\n",
       "      <td>Sunny</td>\n",
       "      <td>85</td>\n",
       "      <td>85</td>\n",
       "      <td>Weak</td>\n",
       "      <td>No</td>\n",
       "    </tr>\n",
       "    <tr>\n",
       "      <th>1</th>\n",
       "      <td>Sunny</td>\n",
       "      <td>80</td>\n",
       "      <td>90</td>\n",
       "      <td>Strong</td>\n",
       "      <td>No</td>\n",
       "    </tr>\n",
       "    <tr>\n",
       "      <th>2</th>\n",
       "      <td>NaN</td>\n",
       "      <td>83</td>\n",
       "      <td>86</td>\n",
       "      <td>Weak</td>\n",
       "      <td>Yes</td>\n",
       "    </tr>\n",
       "    <tr>\n",
       "      <th>3</th>\n",
       "      <td>Rain</td>\n",
       "      <td>70</td>\n",
       "      <td>96</td>\n",
       "      <td>Weak</td>\n",
       "      <td>Yes</td>\n",
       "    </tr>\n",
       "    <tr>\n",
       "      <th>4</th>\n",
       "      <td>NaN</td>\n",
       "      <td>68</td>\n",
       "      <td>80</td>\n",
       "      <td>Weak</td>\n",
       "      <td>Yes</td>\n",
       "    </tr>\n",
       "    <tr>\n",
       "      <th>5</th>\n",
       "      <td>Rain</td>\n",
       "      <td>65</td>\n",
       "      <td>70</td>\n",
       "      <td>Strong</td>\n",
       "      <td>No</td>\n",
       "    </tr>\n",
       "    <tr>\n",
       "      <th>6</th>\n",
       "      <td>Overcast</td>\n",
       "      <td>64</td>\n",
       "      <td>65</td>\n",
       "      <td>Strong</td>\n",
       "      <td>Yes</td>\n",
       "    </tr>\n",
       "    <tr>\n",
       "      <th>7</th>\n",
       "      <td>Sunny</td>\n",
       "      <td>72</td>\n",
       "      <td>95</td>\n",
       "      <td>Weak</td>\n",
       "      <td>No</td>\n",
       "    </tr>\n",
       "    <tr>\n",
       "      <th>8</th>\n",
       "      <td>Sunny</td>\n",
       "      <td>69</td>\n",
       "      <td>70</td>\n",
       "      <td>Weak</td>\n",
       "      <td>Yes</td>\n",
       "    </tr>\n",
       "    <tr>\n",
       "      <th>9</th>\n",
       "      <td>Rain</td>\n",
       "      <td>75</td>\n",
       "      <td>80</td>\n",
       "      <td>Weak</td>\n",
       "      <td>Yes</td>\n",
       "    </tr>\n",
       "    <tr>\n",
       "      <th>10</th>\n",
       "      <td>Sunny</td>\n",
       "      <td>75</td>\n",
       "      <td>70</td>\n",
       "      <td>Strong</td>\n",
       "      <td>Yes</td>\n",
       "    </tr>\n",
       "    <tr>\n",
       "      <th>11</th>\n",
       "      <td>Overcast</td>\n",
       "      <td>72</td>\n",
       "      <td>90</td>\n",
       "      <td>NaN</td>\n",
       "      <td>Yes</td>\n",
       "    </tr>\n",
       "    <tr>\n",
       "      <th>12</th>\n",
       "      <td>Overcast</td>\n",
       "      <td>81</td>\n",
       "      <td>75</td>\n",
       "      <td>Weak</td>\n",
       "      <td>Yes</td>\n",
       "    </tr>\n",
       "    <tr>\n",
       "      <th>13</th>\n",
       "      <td>Rain</td>\n",
       "      <td>71</td>\n",
       "      <td>91</td>\n",
       "      <td>Strong</td>\n",
       "      <td>No</td>\n",
       "    </tr>\n",
       "  </tbody>\n",
       "</table>\n",
       "</div>"
      ],
      "text/plain": [
       "     Outlook  Temperature  Humidity    Wind Play Golf\n",
       "0      Sunny           85        85    Weak        No\n",
       "1      Sunny           80        90  Strong        No\n",
       "2        NaN           83        86    Weak       Yes\n",
       "3       Rain           70        96    Weak       Yes\n",
       "4        NaN           68        80    Weak       Yes\n",
       "5       Rain           65        70  Strong        No\n",
       "6   Overcast           64        65  Strong       Yes\n",
       "7      Sunny           72        95    Weak        No\n",
       "8      Sunny           69        70    Weak       Yes\n",
       "9       Rain           75        80    Weak       Yes\n",
       "10     Sunny           75        70  Strong       Yes\n",
       "11  Overcast           72        90     NaN       Yes\n",
       "12  Overcast           81        75    Weak       Yes\n",
       "13      Rain           71        91  Strong        No"
      ]
     },
     "execution_count": 29,
     "metadata": {},
     "output_type": "execute_result"
    }
   ],
   "source": [
    "df = df.replace('?' , np.nan)\n",
    "df"
   ]
  },
  {
   "cell_type": "code",
   "execution_count": 30,
   "id": "66b66ddc-9113-4c40-ae92-88ce7c116469",
   "metadata": {
    "pycharm": {
     "name": "#%%\n"
    }
   },
   "outputs": [
    {
     "data": {
      "text/plain": [
       "Outlook        object\n",
       "Temperature     int64\n",
       "Humidity        int64\n",
       "Wind           object\n",
       "Play Golf      object\n",
       "dtype: object"
      ]
     },
     "execution_count": 30,
     "metadata": {},
     "output_type": "execute_result"
    }
   ],
   "source": [
    "df.dtypes"
   ]
  },
  {
   "cell_type": "code",
   "execution_count": 31,
   "id": "f361bfc6-44b2-46b9-af5b-4e134be1eb43",
   "metadata": {
    "pycharm": {
     "name": "#%%\n"
    }
   },
   "outputs": [
    {
     "data": {
      "text/plain": [
       "Outlook         object\n",
       "Temperature    float64\n",
       "Humidity       float64\n",
       "Wind            object\n",
       "Play Golf       object\n",
       "dtype: object"
      ]
     },
     "execution_count": 31,
     "metadata": {},
     "output_type": "execute_result"
    }
   ],
   "source": [
    "int_columns = df.select_dtypes('int64').columns\n",
    "df[int_columns] = df[int_columns].astype('float')\n",
    "df.dtypes"
   ]
  },
  {
   "cell_type": "code",
   "execution_count": 32,
   "id": "2e9ad3f9-ef0f-4fe3-87ae-5918b2af1e05",
   "metadata": {
    "pycharm": {
     "name": "#%%\n"
    }
   },
   "outputs": [
    {
     "data": {
      "text/plain": [
       "Outlook        category\n",
       "Temperature     float64\n",
       "Humidity        float64\n",
       "Wind           category\n",
       "Play Golf      category\n",
       "dtype: object"
      ]
     },
     "execution_count": 32,
     "metadata": {},
     "output_type": "execute_result"
    }
   ],
   "source": [
    "categorical_columns = df.select_dtypes('object').columns\n",
    "df[categorical_columns] = df[categorical_columns].astype('category')\n",
    "df.dtypes"
   ]
  },
  {
   "cell_type": "code",
   "execution_count": 33,
   "id": "d2ff485a-64fd-4efe-a829-a58dab83ab66",
   "metadata": {
    "pycharm": {
     "name": "#%%\n"
    }
   },
   "outputs": [],
   "source": [
    "def best_threshold(data , target):\n",
    "    \n",
    "    train_set = data.copy()\n",
    "    kb = KBinsDiscretizer(n_bins=5 , encode='ordinal' , strategy='uniform')\n",
    "    fatures_for_transform = train_set.select_dtypes('float64').columns\n",
    "    train_set[fatures_for_transform] = kb.fit_transform(train_set[fatures_for_transform])\n",
    "\n",
    "    # select discritization features\n",
    "    columns = train_set.drop(target, axis=1).select_dtypes('float').columns\n",
    "    best_thresh = {}\n",
    "\n",
    "    for i , column in enumerate(columns):\n",
    "    \n",
    "        # Calculated Entropy of Parent\n",
    "        entropy_parent = entropy(data[target])\n",
    "        \n",
    "        # Select Threshold\n",
    "        gain_ratio_for_threshs=[]\n",
    "        for thresh in np.unique(train_set[column]):\n",
    "            result = np.where(train_set[column] <= thresh , 1 , 0)\n",
    "        \n",
    "            # Convert result and target to dataframe for Calculate Information Gain\n",
    "            labels = train_set[target].values\n",
    "            dataframe = pd.DataFrame(np.c_[result , labels] , columns=['feature','labels'])\n",
    "            \n",
    "            # Calculated Information Gain for each part\n",
    "            gain_rat = gain_ratio(dataframe , 'feature' , 'labels')\n",
    "            gain_ratio_for_threshs.append(gain_rat)\n",
    "            \n",
    "        best_thresh[column] = kb.bin_edges_[i][np.argmax(gain_ratio_for_threshs)]\n",
    "    return best_thresh"
   ]
  },
  {
   "cell_type": "code",
   "execution_count": 34,
   "id": "dd942f0e-10db-47dd-9219-841066236f5e",
   "metadata": {},
   "outputs": [],
   "source": [
    "def gain_ratio(data , feature , target):\n",
    "    e_parent = entropy(data[target])\n",
    "    e_child = 0\n",
    "    si = 0\n",
    "    for value in data[feature].unique():\n",
    "        \n",
    "        if value in data[feature].value_counts().index:\n",
    "            subset = data[data[feature]==value]\n",
    "        else:\n",
    "            subset = data[data[feature].isnull()]\n",
    "            \n",
    "        if len(subset) == 0:\n",
    "            return 0\n",
    "        \n",
    "        w = len(subset) / len(data)\n",
    "        e_child += w * entropy(subset[target])\n",
    "        \n",
    "        si += -(w * np.log2(w))\n",
    "        info_gain =  e_parent - e_child\n",
    "    return info_gain / si"
   ]
  },
  {
   "cell_type": "code",
   "execution_count": 35,
   "id": "2a1db673-3a08-4e27-a99f-a9ff3433f410",
   "metadata": {},
   "outputs": [],
   "source": [
    "def gain_ratio_for_numerical(data , feature , target):\n",
    "    entropy_parent = entropy(data[target])\n",
    "    entropy_child  = 0\n",
    "    \n",
    "    best_thresh = best_threshold(data , target)\n",
    "    result = np.where(data[feature] <= best_thresh[feature], 1 , 0)\n",
    "    labels = data[target].values\n",
    "    \n",
    "    dataframe = pd.DataFrame(np.c_[result , labels] , columns=['feature','labels'])\n",
    "    \n",
    "    gr = gain_ratio(dataframe , 'feature' , 'labels')\n",
    "    return gr"
   ]
  },
  {
   "cell_type": "code",
   "execution_count": 38,
   "id": "1c0bc800-4983-4252-8ba0-bd40715f9191",
   "metadata": {},
   "outputs": [],
   "source": [
    "def make_tree(data, target):\n",
    "    \n",
    "    # leaf node?\n",
    "    if len(data[target].unique()) == 1:\n",
    "        return Node(label=data[target].iloc[0])\n",
    "    \n",
    "    features = data.drop(target, axis=1).columns\n",
    "    if len(features) == 0 or len(data) == 0:\n",
    "        return Node(label=data[target].mode()[0])\n",
    "    \n",
    "    # calculate information gain\n",
    "    gains = []\n",
    "    \n",
    "    for feature in features:\n",
    "        if data[feature].dtype == 'float':\n",
    "            gains.append(gain_ratio_for_numerical(data , feature , target))\n",
    "            \n",
    "        else:\n",
    "            gains.append(gain_ratio(data, feature, target))\n",
    "    \n",
    "    # greedy search to find best feature\n",
    "    max_gain_idx = np.argmax(gains)\n",
    "    best_feature = features[max_gain_idx]\n",
    "    \n",
    "    # best threshold on numerical features\n",
    "    best_t = best_threshold(data , target)\n",
    "    \n",
    "    # make a node\n",
    "    node = Node(feature=best_feature)\n",
    "\n",
    "    # loop over the best feature\n",
    "    if data[best_feature].dtype == 'float':\n",
    "        \n",
    "        subset_down = data[data[best_feature] <= best_t[best_feature]].drop(best_feature, axis=1)\n",
    "        subset_up   = data[data[best_feature] > best_t[best_feature]].drop(best_feature, axis=1)\n",
    "        subsets = [subset_down , subset_up]\n",
    "    \n",
    "        node.children[f'<= {best_t[best_feature]}'] = make_tree(subset_down , target)\n",
    "        node.children[f'> {best_t[best_feature]}'] = make_tree(subset_up , target)\n",
    "        \n",
    "    else:\n",
    "        for value in data[best_feature].unique():\n",
    "            if value in data[best_feature].value_counts().index:\n",
    "                subset = data[data[best_feature] == value].drop(best_feature, axis=1)\n",
    "            else:\n",
    "                subset = data[data[best_feature].isnull()]\n",
    "        # display(subset)\n",
    "        \n",
    "            node.children[value] = make_tree(subset, target)\n",
    "            \n",
    "    return node"
   ]
  },
  {
   "cell_type": "code",
   "execution_count": 39,
   "id": "43e7d084-2daa-4ac7-af23-76e0d5e8a7bf",
   "metadata": {},
   "outputs": [
    {
     "data": {
      "text/plain": [
       "DecisionNode(feature=\"Outlook\", children={'Sunny': DecisionNode(feature=\"Humidity\", children={'<= 80.0': LeafNode(label=\"Yes\"), '> 80.0': LeafNode(label=\"No\")}), nan: LeafNode(label=\"Yes\"), 'Rain': DecisionNode(feature=\"Wind\", children={'Weak': LeafNode(label=\"Yes\"), 'Strong': LeafNode(label=\"No\")}), 'Overcast': LeafNode(label=\"Yes\")})"
      ]
     },
     "execution_count": 39,
     "metadata": {},
     "output_type": "execute_result"
    }
   ],
   "source": [
    "tree = make_tree(df , 'Play Golf')\n",
    "tree"
   ]
  },
  {
   "cell_type": "code",
   "execution_count": 40,
   "id": "30b1c0f2-ddb8-4470-a906-55021bb6a58d",
   "metadata": {},
   "outputs": [
    {
     "data": {
      "image/svg+xml": [
       "<?xml version=\"1.0\" encoding=\"UTF-8\" standalone=\"no\"?>\n",
       "<!DOCTYPE svg PUBLIC \"-//W3C//DTD SVG 1.1//EN\"\n",
       " \"http://www.w3.org/Graphics/SVG/1.1/DTD/svg11.dtd\">\n",
       "<!-- Generated by graphviz version 9.0.0 (20230911.1827)\n",
       " -->\n",
       "<!-- Pages: 1 -->\n",
       "<svg width=\"317pt\" height=\"186pt\"\n",
       " viewBox=\"0.00 0.00 317.00 185.75\" xmlns=\"http://www.w3.org/2000/svg\" xmlns:xlink=\"http://www.w3.org/1999/xlink\">\n",
       "<g id=\"graph0\" class=\"graph\" transform=\"scale(1 1) rotate(0) translate(4 181.75)\">\n",
       "<polygon fill=\"white\" stroke=\"none\" points=\"-4,4 -4,-181.75 313,-181.75 313,4 -4,4\"/>\n",
       "<!-- 0 -->\n",
       "<g id=\"node1\" class=\"node\">\n",
       "<title>0</title>\n",
       "<polygon fill=\"burlywood\" stroke=\"black\" points=\"143.12,-153.5 143.12,-177.25 204.88,-177.25 204.88,-153.5 143.12,-153.5\"/>\n",
       "<text text-anchor=\"middle\" x=\"174\" y=\"-159.95\" font-family=\"Times New Roman,serif\" font-size=\"14.00\">Outlook</text>\n",
       "</g>\n",
       "<!-- 0_1 -->\n",
       "<g id=\"node2\" class=\"node\">\n",
       "<title>0_1</title>\n",
       "<polygon fill=\"#a0522d\" stroke=\"black\" points=\"25.5,-77 25.5,-100.75 92.5,-100.75 92.5,-77 25.5,-77\"/>\n",
       "<text text-anchor=\"middle\" x=\"59\" y=\"-83.45\" font-family=\"Times New Roman,serif\" font-size=\"14.00\">Humidity</text>\n",
       "</g>\n",
       "<!-- 0&#45;&gt;0_1 -->\n",
       "<g id=\"edge3\" class=\"edge\">\n",
       "<title>0&#45;&gt;0_1</title>\n",
       "<path fill=\"none\" stroke=\"black\" d=\"M143.74,-153.09C132.35,-148.25 119.56,-142.08 108.75,-135 97.48,-127.62 86.26,-117.71 77.33,-109.06\"/>\n",
       "<polygon fill=\"black\" stroke=\"black\" points=\"79.86,-106.65 70.32,-102.04 74.9,-111.59 79.86,-106.65\"/>\n",
       "<text text-anchor=\"middle\" x=\"126.62\" y=\"-121.7\" font-family=\"Times New Roman,serif\" font-size=\"14.00\">Sunny</text>\n",
       "</g>\n",
       "<!-- 0_2 -->\n",
       "<g id=\"node5\" class=\"node\">\n",
       "<title>0_2</title>\n",
       "<polygon fill=\"burlywood\" stroke=\"black\" points=\"111,-77 111,-100.75 165,-100.75 165,-77 111,-77\"/>\n",
       "<text text-anchor=\"middle\" x=\"137.88\" y=\"-83.45\" font-family=\"Times New Roman,serif\" font-size=\"14.00\">Yes</text>\n",
       "</g>\n",
       "<!-- 0&#45;&gt;0_2 -->\n",
       "<g id=\"edge4\" class=\"edge\">\n",
       "<title>0&#45;&gt;0_2</title>\n",
       "<path fill=\"none\" stroke=\"black\" d=\"M165.56,-153.04C161.86,-147.73 157.65,-141.23 154.5,-135 150.79,-127.67 147.5,-119.31 144.85,-111.79\"/>\n",
       "<polygon fill=\"black\" stroke=\"black\" points=\"148.19,-110.76 141.72,-102.37 141.55,-112.96 148.19,-110.76\"/>\n",
       "<text text-anchor=\"middle\" x=\"164.75\" y=\"-121.7\" font-family=\"Times New Roman,serif\" font-size=\"14.00\">nan</text>\n",
       "</g>\n",
       "<!-- 0_3 -->\n",
       "<g id=\"node6\" class=\"node\">\n",
       "<title>0_3</title>\n",
       "<polygon fill=\"#a0522d\" stroke=\"black\" points=\"183,-77 183,-100.75 237,-100.75 237,-77 183,-77\"/>\n",
       "<text text-anchor=\"middle\" x=\"209.88\" y=\"-83.45\" font-family=\"Times New Roman,serif\" font-size=\"14.00\">Wind</text>\n",
       "</g>\n",
       "<!-- 0&#45;&gt;0_3 -->\n",
       "<g id=\"edge7\" class=\"edge\">\n",
       "<title>0&#45;&gt;0_3</title>\n",
       "<path fill=\"none\" stroke=\"black\" d=\"M179.47,-153.06C184.87,-141.88 193.26,-124.52 199.88,-110.82\"/>\n",
       "<polygon fill=\"black\" stroke=\"black\" points=\"202.86,-112.7 204.06,-102.17 196.56,-109.65 202.86,-112.7\"/>\n",
       "<text text-anchor=\"middle\" x=\"208.75\" y=\"-121.7\" font-family=\"Times New Roman,serif\" font-size=\"14.00\">Rain</text>\n",
       "</g>\n",
       "<!-- 0_4 -->\n",
       "<g id=\"node9\" class=\"node\">\n",
       "<title>0_4</title>\n",
       "<polygon fill=\"burlywood\" stroke=\"black\" points=\"255,-77 255,-100.75 309,-100.75 309,-77 255,-77\"/>\n",
       "<text text-anchor=\"middle\" x=\"281.88\" y=\"-83.45\" font-family=\"Times New Roman,serif\" font-size=\"14.00\">Yes</text>\n",
       "</g>\n",
       "<!-- 0&#45;&gt;0_4 -->\n",
       "<g id=\"edge8\" class=\"edge\">\n",
       "<title>0&#45;&gt;0_4</title>\n",
       "<path fill=\"none\" stroke=\"black\" d=\"M195.27,-153.05C204.58,-147.85 215.53,-141.42 225,-135 237,-126.86 249.7,-116.94 260.06,-108.48\"/>\n",
       "<polygon fill=\"black\" stroke=\"black\" points=\"262.2,-111.25 267.67,-102.18 257.74,-105.86 262.2,-111.25\"/>\n",
       "<text text-anchor=\"middle\" x=\"271.12\" y=\"-121.7\" font-family=\"Times New Roman,serif\" font-size=\"14.00\">Overcast</text>\n",
       "</g>\n",
       "<!-- 0_1_1 -->\n",
       "<g id=\"node3\" class=\"node\">\n",
       "<title>0_1_1</title>\n",
       "<polygon fill=\"burlywood\" stroke=\"black\" points=\"0,-0.5 0,-24.25 54,-24.25 54,-0.5 0,-0.5\"/>\n",
       "<text text-anchor=\"middle\" x=\"26.88\" y=\"-6.95\" font-family=\"Times New Roman,serif\" font-size=\"14.00\">Yes</text>\n",
       "</g>\n",
       "<!-- 0_1&#45;&gt;0_1_1 -->\n",
       "<g id=\"edge1\" class=\"edge\">\n",
       "<title>0_1&#45;&gt;0_1_1</title>\n",
       "<path fill=\"none\" stroke=\"black\" d=\"M45.9,-76.51C40.97,-71.5 35.82,-65.22 32.75,-58.5 29.6,-51.6 28,-43.52 27.24,-36.12\"/>\n",
       "<polygon fill=\"black\" stroke=\"black\" points=\"30.74,-35.94 26.69,-26.15 23.75,-36.32 30.74,-35.94\"/>\n",
       "<text text-anchor=\"middle\" x=\"55.12\" y=\"-45.2\" font-family=\"Times New Roman,serif\" font-size=\"14.00\">&lt;= 80.0</text>\n",
       "</g>\n",
       "<!-- 0_1_2 -->\n",
       "<g id=\"node4\" class=\"node\">\n",
       "<title>0_1_2</title>\n",
       "<polygon fill=\"burlywood\" stroke=\"black\" points=\"72,-0.5 72,-24.25 126,-24.25 126,-0.5 72,-0.5\"/>\n",
       "<text text-anchor=\"middle\" x=\"98.62\" y=\"-6.95\" font-family=\"Times New Roman,serif\" font-size=\"14.00\">No</text>\n",
       "</g>\n",
       "<!-- 0_1&#45;&gt;0_1_2 -->\n",
       "<g id=\"edge2\" class=\"edge\">\n",
       "<title>0_1&#45;&gt;0_1_2</title>\n",
       "<path fill=\"none\" stroke=\"black\" d=\"M66.27,-76.59C69.65,-71.18 73.66,-64.58 77,-58.5 81.17,-50.9 85.42,-42.4 89.06,-34.84\"/>\n",
       "<polygon fill=\"black\" stroke=\"black\" points=\"92.11,-36.56 93.22,-26.02 85.78,-33.57 92.11,-36.56\"/>\n",
       "<text text-anchor=\"middle\" x=\"103\" y=\"-45.2\" font-family=\"Times New Roman,serif\" font-size=\"14.00\">&gt; 80.0</text>\n",
       "</g>\n",
       "<!-- 0_3_1 -->\n",
       "<g id=\"node7\" class=\"node\">\n",
       "<title>0_3_1</title>\n",
       "<polygon fill=\"burlywood\" stroke=\"black\" points=\"163,-0.5 163,-24.25 217,-24.25 217,-0.5 163,-0.5\"/>\n",
       "<text text-anchor=\"middle\" x=\"189.88\" y=\"-6.95\" font-family=\"Times New Roman,serif\" font-size=\"14.00\">Yes</text>\n",
       "</g>\n",
       "<!-- 0_3&#45;&gt;0_3_1 -->\n",
       "<g id=\"edge5\" class=\"edge\">\n",
       "<title>0_3&#45;&gt;0_3_1</title>\n",
       "<path fill=\"none\" stroke=\"black\" d=\"M206.96,-76.56C204.02,-65.6 199.48,-48.71 195.84,-35.14\"/>\n",
       "<polygon fill=\"black\" stroke=\"black\" points=\"199.3,-34.52 193.33,-25.77 192.54,-36.34 199.3,-34.52\"/>\n",
       "<text text-anchor=\"middle\" x=\"218.12\" y=\"-45.2\" font-family=\"Times New Roman,serif\" font-size=\"14.00\">Weak</text>\n",
       "</g>\n",
       "<!-- 0_3_2 -->\n",
       "<g id=\"node8\" class=\"node\">\n",
       "<title>0_3_2</title>\n",
       "<polygon fill=\"burlywood\" stroke=\"black\" points=\"235,-0.5 235,-24.25 289,-24.25 289,-0.5 235,-0.5\"/>\n",
       "<text text-anchor=\"middle\" x=\"261.62\" y=\"-6.95\" font-family=\"Times New Roman,serif\" font-size=\"14.00\">No</text>\n",
       "</g>\n",
       "<!-- 0_3&#45;&gt;0_3_2 -->\n",
       "<g id=\"edge6\" class=\"edge\">\n",
       "<title>0_3&#45;&gt;0_3_2</title>\n",
       "<path fill=\"none\" stroke=\"black\" d=\"M222.23,-76.52C227.45,-71.32 233.38,-64.9 238,-58.5 243.29,-51.16 248.18,-42.51 252.14,-34.76\"/>\n",
       "<polygon fill=\"black\" stroke=\"black\" points=\"255.18,-36.51 256.41,-25.99 248.88,-33.45 255.18,-36.51\"/>\n",
       "<text text-anchor=\"middle\" x=\"266.75\" y=\"-45.2\" font-family=\"Times New Roman,serif\" font-size=\"14.00\">Strong</text>\n",
       "</g>\n",
       "</g>\n",
       "</svg>\n"
      ],
      "text/plain": [
       "<graphviz.graphs.Digraph at 0x1d18bdd2f08>"
      ]
     },
     "execution_count": 40,
     "metadata": {},
     "output_type": "execute_result"
    }
   ],
   "source": [
    "plot_tree(tree)"
   ]
  },
  {
   "cell_type": "code",
   "execution_count": 41,
   "id": "07429778-74a0-4a0e-9923-fd8e11ad38b9",
   "metadata": {},
   "outputs": [
    {
     "data": {
      "text/html": [
       "<div>\n",
       "<style scoped>\n",
       "    .dataframe tbody tr th:only-of-type {\n",
       "        vertical-align: middle;\n",
       "    }\n",
       "\n",
       "    .dataframe tbody tr th {\n",
       "        vertical-align: top;\n",
       "    }\n",
       "\n",
       "    .dataframe thead th {\n",
       "        text-align: right;\n",
       "    }\n",
       "</style>\n",
       "<table border=\"1\" class=\"dataframe\">\n",
       "  <thead>\n",
       "    <tr style=\"text-align: right;\">\n",
       "      <th></th>\n",
       "      <th>Outlook</th>\n",
       "      <th>Temperature</th>\n",
       "      <th>Humidity</th>\n",
       "      <th>Wind</th>\n",
       "      <th>Play Golf</th>\n",
       "    </tr>\n",
       "  </thead>\n",
       "  <tbody>\n",
       "    <tr>\n",
       "      <th>0</th>\n",
       "      <td>Overcast</td>\n",
       "      <td>68</td>\n",
       "      <td>93</td>\n",
       "      <td>Weak</td>\n",
       "      <td>Yes</td>\n",
       "    </tr>\n",
       "    <tr>\n",
       "      <th>1</th>\n",
       "      <td>Rain</td>\n",
       "      <td>66</td>\n",
       "      <td>78</td>\n",
       "      <td>Strong</td>\n",
       "      <td>No</td>\n",
       "    </tr>\n",
       "    <tr>\n",
       "      <th>2</th>\n",
       "      <td>Sunny</td>\n",
       "      <td>79</td>\n",
       "      <td>79</td>\n",
       "      <td>Weak</td>\n",
       "      <td>Yes</td>\n",
       "    </tr>\n",
       "  </tbody>\n",
       "</table>\n",
       "</div>"
      ],
      "text/plain": [
       "    Outlook  Temperature  Humidity    Wind Play Golf\n",
       "0  Overcast           68        93    Weak       Yes\n",
       "1      Rain           66        78  Strong        No\n",
       "2     Sunny           79        79    Weak       Yes"
      ]
     },
     "execution_count": 41,
     "metadata": {},
     "output_type": "execute_result"
    }
   ],
   "source": [
    "test_df = pd.read_csv('data/play_golf_test.csv')\n",
    "test_df"
   ]
  },
  {
   "cell_type": "code",
   "execution_count": 42,
   "id": "086e9613-d5da-430f-b846-4f13e1f8e116",
   "metadata": {},
   "outputs": [
    {
     "data": {
      "text/plain": [
       "Outlook        object\n",
       "Temperature     int64\n",
       "Humidity        int64\n",
       "Wind           object\n",
       "Play Golf      object\n",
       "dtype: object"
      ]
     },
     "execution_count": 42,
     "metadata": {},
     "output_type": "execute_result"
    }
   ],
   "source": [
    "test_df.dtypes"
   ]
  },
  {
   "cell_type": "code",
   "execution_count": 43,
   "id": "c9247913-05b4-4b9b-9b87-f8bddf0ffe8e",
   "metadata": {},
   "outputs": [
    {
     "data": {
      "text/plain": [
       "Outlook         object\n",
       "Temperature    float64\n",
       "Humidity       float64\n",
       "Wind            object\n",
       "Play Golf       object\n",
       "dtype: object"
      ]
     },
     "execution_count": 43,
     "metadata": {},
     "output_type": "execute_result"
    }
   ],
   "source": [
    "int_columns = test_df.select_dtypes('int64').columns\n",
    "test_df[int_columns] = test_df[int_columns].astype('float')\n",
    "test_df.dtypes"
   ]
  },
  {
   "cell_type": "code",
   "execution_count": 44,
   "id": "71820e72-1cc0-4c7b-946e-e61343cf0b41",
   "metadata": {},
   "outputs": [
    {
     "data": {
      "text/plain": [
       "Outlook        category\n",
       "Temperature     float64\n",
       "Humidity        float64\n",
       "Wind           category\n",
       "Play Golf      category\n",
       "dtype: object"
      ]
     },
     "execution_count": 44,
     "metadata": {},
     "output_type": "execute_result"
    }
   ],
   "source": [
    "categorical_columns = test_df.select_dtypes('object').columns\n",
    "test_df[categorical_columns] = test_df[categorical_columns].astype('category')\n",
    "test_df.dtypes"
   ]
  },
  {
   "cell_type": "code",
   "execution_count": 45,
   "id": "ad848dab-3272-45d4-b135-58ee5515a309",
   "metadata": {},
   "outputs": [
    {
     "data": {
      "text/plain": [
       "['Yes', 'No', 'Yes']"
      ]
     },
     "execution_count": 45,
     "metadata": {},
     "output_type": "execute_result"
    }
   ],
   "source": [
    "def pred(node , sample):\n",
    "    if node.feature is None:\n",
    "        return node.label\n",
    "    feature_value = sample[node.feature]\n",
    "    \n",
    "    if feature_value in node.children:\n",
    "        return pred(node.children[feature_value], sample)\n",
    "    else:\n",
    "        for condition in node.children:\n",
    "            operator , threshold = condition.split(' ')\n",
    "            threshold = float(threshold)\n",
    "            \n",
    "            if operator == '<=' and feature_value <= threshold:\n",
    "                return pred(node.children[condition] , sample)\n",
    "            \n",
    "            elif operator == '>' and feature_value > threshold:\n",
    "                return pred(node.children[condition] , sample)\n",
    "\n",
    "            \n",
    "[pred(tree , sample) for _, sample in test_df.iterrows()]"
   ]
  }
 ],
 "metadata": {
  "kernelspec": {
   "display_name": "Python 3",
   "language": "python",
   "name": "python3"
  },
  "language_info": {
   "codemirror_mode": {
    "name": "ipython",
    "version": 3
   },
   "file_extension": ".py",
   "mimetype": "text/x-python",
   "name": "python",
   "nbconvert_exporter": "python",
   "pygments_lexer": "ipython3",
   "version": "3.7.16"
  }
 },
 "nbformat": 4,
 "nbformat_minor": 5
}
